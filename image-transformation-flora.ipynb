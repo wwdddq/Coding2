{
 "cells": [
  {
   "cell_type": "code",
   "execution_count": null,
   "id": "e04ee7f8",
   "metadata": {},
   "outputs": [],
   "source": [
    "%matplotlib inline\n",
    "\n",
    "import numpy as np\n",
    "import matplotlib.pyplot as plt\n",
    "import os\n",
    "\n",
    "plt.style.use('ggplot')\n",
    "\n",
    "def get_imgs(path):\n",
    "    files = os.listdir(path)\n",
    "    paths = [os.path.join(path, i)\n",
    "        for i in files\n",
    "        if '.jpg' in i]\n",
    "    imgs = [plt.imread(paths[i])\n",
    "        for i in range(len(paths))]\n",
    "    return imgs\n",
    "\n",
    "imgs = get_imgs('data/figs_small/')\n",
    "plt.imshow(imgs[0])"
   ]
  },
  {
   "cell_type": "code",
   "execution_count": null,
   "id": "8f2f49d7",
   "metadata": {},
   "outputs": [],
   "source": [
    "data = np.array(imgs)\n",
    "img_mean = np.mean(data, axis=0)\n",
    "img_min = np.min(data, axis=0)\n",
    "img_max = np.max(data, axis=0)\n",
    "img_std = np.std(data, axis=0)\n",
    "img_std_chan = np.mean(img_std, axis=2)\n",
    "\n",
    "fig, axs = plt.subplots(1, 3)\n",
    "axs[0].imshow(img_mean.astype(np.uint8))\n",
    "axs[1].imshow(img_min.astype(np.uint8))\n",
    "axs[2].imshow(img_max.astype(np.uint8))\n",
    "\n",
    "fig, axs = plt.subplots(1, 2)\n",
    "axs[0].imshow(img_std.astype(np.uint8))\n",
    "axs[1].imshow(img_std_chan.astype(np.uint8))"
   ]
  },
  {
   "cell_type": "code",
   "execution_count": null,
   "id": "bd114620",
   "metadata": {},
   "outputs": [],
   "source": [
    "def sort_pixels(img, chan):\n",
    "    s = img.copy()\n",
    "    for i in range(len(img)):\n",
    "        pixels = sorted(img[i], key=lambda r: r[chan])\n",
    "        s[i] = pixels\n",
    "    return np.rot90(s)\n",
    "\n",
    "def clear_axes(ax):\n",
    "    ax.grid(False)\n",
    "    ax.set_xticks([])\n",
    "    ax.set_yticks([])\n",
    "\n",
    "def show_sorted(img, n, chan=0):\n",
    "    fig, axs = plt.subplots(1, 2, gridspec_kw={'width_ratios': [1, 3]})\n",
    "    clear_axes(axs[0])\n",
    "    clear_axes(axs[1])\n",
    "    \n",
    "    axs[0].imshow(img.astype(np.uint8))\n",
    "    axs[1].imshow(sort_pixels(img, chan).astype(np.uint8))\n",
    "    plt.savefig(f\"./out/img_side_{n}.jpg\")\n",
    "    \n",
    "    plt.show()\n",
    "   \n",
    "\n",
    "fileNum = 0\n",
    "for i in imgs:\n",
    "    show_sorted(i, fileNum)\n",
    "    fileNum += 1"
   ]
  },
  {
   "cell_type": "code",
   "execution_count": null,
   "id": "8719a025",
   "metadata": {},
   "outputs": [],
   "source": []
  }
 ],
 "metadata": {
  "kernelspec": {
   "display_name": "Python 3",
   "language": "python",
   "name": "python3"
  },
  "language_info": {
   "codemirror_mode": {
    "name": "ipython",
    "version": 3
   },
   "file_extension": ".py",
   "mimetype": "text/x-python",
   "name": "python",
   "nbconvert_exporter": "python",
   "pygments_lexer": "ipython3",
   "version": "3.9.16"
  }
 },
 "nbformat": 4,
 "nbformat_minor": 5
}
