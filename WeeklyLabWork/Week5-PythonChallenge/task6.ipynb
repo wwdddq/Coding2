{
 "cells": [
  {
   "cell_type": "code",
   "execution_count": 2,
   "id": "fe548104",
   "metadata": {},
   "outputs": [
    {
     "name": "stdout",
     "output_type": "stream",
     "text": [
      "****************************************************************\n",
      "****************************************************************\n",
      "**                                                            **\n",
      "**   OO    OO    XX      YYYY    GG    GG  EEEEEE NN      NN  **\n",
      "**   OO    OO  XXXXXX   YYYYYY   GG   GG   EEEEEE  NN    NN   **\n",
      "**   OO    OO XXX  XXX YYY   YY  GG GG     EE       NN  NN    **\n",
      "**   OOOOOOOO XX    XX YY        GGG       EEEEE     NNNN     **\n",
      "**   OOOOOOOO XX    XX YY        GGG       EEEEE      NN      **\n",
      "**   OO    OO XXX  XXX YYY   YY  GG GG     EE         NN      **\n",
      "**   OO    OO  XXXXXX   YYYYYY   GG   GG   EEEEEE     NN      **\n",
      "**   OO    OO    XX      YYYY    GG    GG  EEEEEE     NN      **\n",
      "**                                                            **\n",
      "****************************************************************\n",
      " **************************************************************\n",
      "\n"
     ]
    }
   ],
   "source": [
    "import zipfile\n",
    "import re\n",
    "\n",
    "zip_file = zipfile.ZipFile(\"channel.zip\")\n",
    "\n",
    "# In the first step, find the first file and get the numbers in the comments\n",
    "file_name = \"90052.txt\"\n",
    "comments = []\n",
    "while True:\n",
    "    text = zip_file.read(file_name).decode(\"utf-8\")\n",
    "    comments.append(zip_file.getinfo(file_name).comment.decode(\"utf-8\"))\n",
    "    match = re.search(r\"Next nothing is (\\d+)\", text)\n",
    "    if match:\n",
    "        file_name = match.group(1) + \".txt\"\n",
    "    else:\n",
    "        break\n",
    "\n",
    "# The second step is to find the comments in the order of the numbers obtained\n",
    "print(\"\".join(comments))\n"
   ]
  },
  {
   "cell_type": "code",
   "execution_count": null,
   "id": "4fa1b65b",
   "metadata": {},
   "outputs": [],
   "source": []
  }
 ],
 "metadata": {
  "kernelspec": {
   "display_name": "Python 3 (ipykernel)",
   "language": "python",
   "name": "python3"
  },
  "language_info": {
   "codemirror_mode": {
    "name": "ipython",
    "version": 3
   },
   "file_extension": ".py",
   "mimetype": "text/x-python",
   "name": "python",
   "nbconvert_exporter": "python",
   "pygments_lexer": "ipython3",
   "version": "3.9.16"
  }
 },
 "nbformat": 4,
 "nbformat_minor": 5
}
