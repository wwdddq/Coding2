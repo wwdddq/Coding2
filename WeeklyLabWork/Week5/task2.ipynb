{
 "cells": [
  {
   "cell_type": "code",
   "execution_count": 1,
   "id": "231e926e",
   "metadata": {},
   "outputs": [
    {
     "name": "stdout",
     "output_type": "stream",
     "text": [
      "equality\n"
     ]
    }
   ],
   "source": [
    "import urllib.request\n",
    "import re\n",
    "\n",
    "# Read the source code of a web page\n",
    "url = \"http://www.pythonchallenge.com/pc/def/ocr.html\"\n",
    "response = urllib.request.urlopen(url)\n",
    "data = response.read().decode()\n",
    "\n",
    "# Find the string containing the hidden message\n",
    "message = re.findall(\"<!--(.*?)-->\", data, re.DOTALL)[-1]\n",
    "\n",
    "# Count the number of occurrences of each character\n",
    "count = {}\n",
    "for c in message:\n",
    "    if c in count:\n",
    "        count[c] += 1\n",
    "    else:\n",
    "        count[c] = 1\n",
    "\n",
    "# Find the character with the number of occurrences of 1, which is the hidden message\n",
    "result = \"\"\n",
    "for c in message:\n",
    "    if count[c] == 1:\n",
    "        result += c\n",
    "\n",
    "print(result)\n"
   ]
  },
  {
   "cell_type": "code",
   "execution_count": null,
   "id": "b41eba80",
   "metadata": {},
   "outputs": [],
   "source": []
  }
 ],
 "metadata": {
  "kernelspec": {
   "display_name": "Python 3 (ipykernel)",
   "language": "python",
   "name": "python3"
  },
  "language_info": {
   "codemirror_mode": {
    "name": "ipython",
    "version": 3
   },
   "file_extension": ".py",
   "mimetype": "text/x-python",
   "name": "python",
   "nbconvert_exporter": "python",
   "pygments_lexer": "ipython3",
   "version": "3.9.16"
  }
 },
 "nbformat": 4,
 "nbformat_minor": 5
}
